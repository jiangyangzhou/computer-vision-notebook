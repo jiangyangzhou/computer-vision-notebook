{
 "cells": [
  {
   "cell_type": "markdown",
   "metadata": {},
   "source": [
    "# Caffe notebook"
   ]
  },
  {
   "cell_type": "markdown",
   "metadata": {},
   "source": [
    "###  1.  caffe installation in Ubuntu16.04"
   ]
  },
  {
   "cell_type": "markdown",
   "metadata": {},
   "source": [
    "- ** 1. Install cuda. (if flownet, use cuda8.0; else cuda9.0 is ok.)**  \n",
    "Perhaps need to set envionment variables, and need reboot to install the driver.  \n",
    "To make sure cuda have been sucessfully installed:    \n",
    "> cd /usr/local/cuda-8.0/samples/1_Utilities/deviceQuery  \n",
    "> sudo make  \n",
    "> ./deviceQuery  "
   ]
  },
  {
   "cell_type": "markdown",
   "metadata": {},
   "source": [
    "- **2. Install cudnn. (if flownet, use cudnn5.5; else cudnn7.0 works well.)**  \n",
    "   \n",
    "   \n",
    "- **3. Install so many dependences **   \n",
    "like:  \n",
    "> sudo apt-get install libprotobuf-dev libleveldb-dev libsnappy-dev libopencv-dev libhdf5-serial-dev protobuf-compiler  \n",
    "> sudo apt-get install --no-install-recommends libboost-all-dev  \n",
    "> sudo apt-get install libopenblas-dev liblapack-dev libatlas-base-dev  \n",
    "> sudo apt-get install libgflags-dev libgoogle-glog-dev liblmdb-dev  \n",
    "> sudo apt-get install git cmake build-essential  "
   ]
  },
  {
   "cell_type": "markdown",
   "metadata": {},
   "source": [
    "- ** 4. Clone caffe and compile it.**\n",
    "> git clone  https://github.com/BVLC/caffe.git  \n",
    "\n",
    "- to compile caffe, better to use cmake. because make is to hard  \n",
    "if want to config the cmake, use ccmake.\n",
    "> mkdir caffe_build  \n",
    "> cd caffe_build  \n",
    "> cmake ..  \n",
    "> make all -j 4  \n",
    "> make install  "
   ]
  },
  {
   "cell_type": "markdown",
   "metadata": {},
   "source": [
    "- ** If encounter some problem, try google. And here are some points need to watch out.**\n",
    "  1. Don't use anaconda, it's hard to manage the python lib 's version.  \n",
    "  2. Choose the proper version of cuda and cudnn and choose the proper arch for cuda. Too higher version of cuda can't fit old caffe. And if cuda is too old, may need to forbidden nouveau to install driver.\n",
    "(要选择合适的cuda和cudnn版本。太高的版本老的caffe可能跑不了，还可能要禁用nouveau)"
   ]
  },
  {
   "cell_type": "markdown",
   "metadata": {},
   "source": [
    "## 2.Use Caffe\n",
    "#### - Caffe use the prototype file to  describe the struct of net(layers)."
   ]
  },
  {
   "cell_type": "markdown",
   "metadata": {},
   "source": [
    "####  1. Vision Layers  \n",
    "- Convolution Layer - convolves the input image with a set of learnable filters, each producing one feature map in the output image.  \n",
    "\n",
    "\n",
    "- Deconvolution Layer - transposed convolution.  \n",
    "  - "
   ]
  },
  {
   "cell_type": "markdown",
   "metadata": {
    "collapsed": true
   },
   "source": []
  },
  {
   "cell_type": "code",
   "execution_count": null,
   "metadata": {
    "collapsed": true
   },
   "outputs": [],
   "source": []
  }
 ],
 "metadata": {
  "kernelspec": {
   "display_name": "Python 2",
   "language": "python",
   "name": "python2"
  },
  "language_info": {
   "codemirror_mode": {
    "name": "ipython",
    "version": 2
   },
   "file_extension": ".py",
   "mimetype": "text/x-python",
   "name": "python",
   "nbconvert_exporter": "python",
   "pygments_lexer": "ipython2",
   "version": "2.7.13"
  }
 },
 "nbformat": 4,
 "nbformat_minor": 2
}
