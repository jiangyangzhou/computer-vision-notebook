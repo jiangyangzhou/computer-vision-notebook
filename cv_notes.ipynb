{
 "cells": [
  {
   "cell_type": "markdown",
   "metadata": {},
   "source": [
    "<style type=\"text/css\">\n",
    "p {margin-left: 30px}\n",
    "</style>\n",
    "\n",
    "# Computer vision notobook  \n",
    "\n",
    "\n",
    "## Deconvolution layer  \n",
    "- #### 反卷积方法：\n",
    "     1. <font size=4> Unpolling, 与maxpolling 相反.</font>\n",
    "        - ![unpolling](./Data/unpolling.png)  </br>  \n",
    "        \n",
    "     2. transpose convoltion.\n",
    "        - it is learnable.</br>\n",
    "        - also called upconvolution, fractionally strided convolution,  backwards strides convolution, transpose convolution  \n",
    "        - The key: The input weighted the kernel, and sum up the overlap region of output.  \n",
    "        \n",
    "        - For example, if kernel is 3\\*3, and input is 2\\*2, every element of input multiply the kernel, and add to the response region of output.\n",
    "        - ![deconvolution](./Data/deconvolution.png)\n",
    "        "
   ]
  },
  {
   "cell_type": "code",
   "execution_count": null,
   "metadata": {
    "collapsed": true
   },
   "outputs": [],
   "source": []
  }
 ],
 "metadata": {
  "kernelspec": {
   "display_name": "Python 2",
   "language": "python",
   "name": "python2"
  },
  "language_info": {
   "codemirror_mode": {
    "name": "ipython",
    "version": 2
   },
   "file_extension": ".py",
   "mimetype": "text/x-python",
   "name": "python",
   "nbconvert_exporter": "python",
   "pygments_lexer": "ipython2",
   "version": "2.7.13"
  }
 },
 "nbformat": 4,
 "nbformat_minor": 2
}
