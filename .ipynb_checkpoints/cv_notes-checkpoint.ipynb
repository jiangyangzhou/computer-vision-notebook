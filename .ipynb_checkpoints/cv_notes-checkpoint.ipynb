{
 "cells": [
  {
   "cell_type": "markdown",
   "metadata": {},
   "source": [
    "# Computer vision notobook  \n",
    "### Deconvolution layer  \n",
    "- also call upconvolution, fractionally strided convolution,  \n",
    "- 反卷积方法： \n",
    "    1. unpolling: 与maxpolling 相反， 如将 5 ——> [[5,0],[0,0]].  \n",
    "    2. transpose convoltion. it is learnable."
   ]
  },
  {
   "cell_type": "code",
   "execution_count": null,
   "metadata": {
    "collapsed": true
   },
   "outputs": [],
   "source": []
  }
 ],
 "metadata": {
  "kernelspec": {
   "display_name": "Python 2",
   "language": "python",
   "name": "python2"
  },
  "language_info": {
   "codemirror_mode": {
    "name": "ipython",
    "version": 2
   },
   "file_extension": ".py",
   "mimetype": "text/x-python",
   "name": "python",
   "nbconvert_exporter": "python",
   "pygments_lexer": "ipython2",
   "version": "2.7.13"
  }
 },
 "nbformat": 4,
 "nbformat_minor": 2
}
